{
 "cells": [
  {
   "cell_type": "code",
   "execution_count": 3,
   "id": "358ee347-6af5-4ded-a316-9848b7bca258",
   "metadata": {},
   "outputs": [
    {
     "name": "stdout",
     "output_type": "stream",
     "text": [
      "[(101, 'david'), (10, 'brian')]\n"
     ]
    }
   ],
   "source": [
    "data = [(101,\"david\"), (10, \"brian\")]\n",
    "schema = 'customer_id int, customer_name string'\n",
    "print(data)"
   ]
  },
  {
   "cell_type": "code",
   "execution_count": 5,
   "id": "f24d8c5d-3e34-4781-b199-cfa73c89905a",
   "metadata": {},
   "outputs": [],
   "source": [
    "from pyspark.sql import SparkSession"
   ]
  },
  {
   "cell_type": "code",
   "execution_count": 8,
   "id": "32113381-9ae1-4f5c-af4c-4a742eeebeaf",
   "metadata": {},
   "outputs": [],
   "source": [
    "spark = (\n",
    "    SparkSession.builder\n",
    "                .master('local')\n",
    "                .appName('Interview_training')\n",
    "                .getOrCreate()\n",
    ")"
   ]
  },
  {
   "cell_type": "code",
   "execution_count": 11,
   "id": "9008f10a-2f89-472d-8a39-3fe250adac29",
   "metadata": {},
   "outputs": [
    {
     "name": "stdout",
     "output_type": "stream",
     "text": [
      "+---+-----+\n",
      "| _1|   _2|\n",
      "+---+-----+\n",
      "|101|david|\n",
      "| 10|brian|\n",
      "+---+-----+\n",
      "\n"
     ]
    }
   ],
   "source": [
    "data1=spark.createDataFrame(data, schema = schema)\n",
    "data1.show()"
   ]
  }
 ],
 "metadata": {
  "kernelspec": {
   "display_name": "Python 3 (ipykernel)",
   "language": "python",
   "name": "python3"
  },
  "language_info": {
   "codemirror_mode": {
    "name": "ipython",
    "version": 3
   },
   "file_extension": ".py",
   "mimetype": "text/x-python",
   "name": "python",
   "nbconvert_exporter": "python",
   "pygments_lexer": "ipython3",
   "version": "3.10.11"
  }
 },
 "nbformat": 4,
 "nbformat_minor": 5
}
